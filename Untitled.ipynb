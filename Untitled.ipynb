{
 "cells": [
  {
   "cell_type": "code",
   "execution_count": 8,
   "id": "d4e7acaa-504d-4184-b441-baa9de321b98",
   "metadata": {},
   "outputs": [],
   "source": [
    "import pandas as pd\n",
    "import numpy as np\n",
    "from sklearn.linear_model import LogisticRegression\n",
    "from sklearn.impute import SimpleImputer\n",
    "from sklearn.metrics import accuracy_score\n",
    "from sklearn.preprocessing import StandardScaler\n",
    "from sklearn.decomposition import PCA\n",
    "from sklearn.model_selection import train_test_split, GridSearchCV"
   ]
  },
  {
   "cell_type": "code",
   "execution_count": 4,
   "id": "e9d25430-adfe-4edb-837b-0aa517cd2da1",
   "metadata": {},
   "outputs": [],
   "source": [
    "df = pd.read_csv(\"D:\\\\aravind ML projects\\\\anemia prediction\\\\anemia.csv\")\n",
    "df['Sex'] = df[\"Sex\"].map({'M': 0, 'F': 1})\n",
    "x = df.drop(\"Anaemic\", axis =1)\n",
    "y = df['Anaemic']"
   ]
  },
  {
   "cell_type": "code",
   "execution_count": 5,
   "id": "d5fee186-78e2-4a37-bee6-876005ec21d3",
   "metadata": {},
   "outputs": [],
   "source": [
    "imputer = SimpleImputer(strategy='mean')\n",
    "x_imputed = imputer.fit_transform(x)\n",
    "scaler = StandardScaler() #scale dataset and reduce differences between the ranges of different features\n",
    "x_scaled = scaler.fit_transform(x_imputed)"
   ]
  },
  {
   "cell_type": "code",
   "execution_count": 6,
   "id": "72af4dec-c88d-4bda-9922-0e8fa7373de3",
   "metadata": {},
   "outputs": [],
   "source": [
    "pca = PCA(n_components=3)\n",
    "data = pca.fit_transform(x_scaled)"
   ]
  },
  {
   "cell_type": "code",
   "execution_count": 9,
   "id": "d91f464b-c921-4e95-8594-6d9f38afbc8c",
   "metadata": {},
   "outputs": [
    {
     "name": "stdout",
     "output_type": "stream",
     "text": [
      "Accuracy:  96.875\n"
     ]
    }
   ],
   "source": [
    "x_train, x_test, y_train, y_test = train_test_split(data, y, test_size = 0.3, random_state = 45)\n",
    "model = LogisticRegression(penalty = 'elasticnet', solver = 'saga',l1_ratio = 0.5, max_iter = 5000)\n",
    "model.fit(x_train, y_train)\n",
    "y_pred = model.predict(x_test)\n",
    "\n",
    "accuracy = accuracy_score(y_test, y_pred)\n",
    "print(\"Accuracy: \", accuracy*100)"
   ]
  }
 ],
 "metadata": {
  "kernelspec": {
   "display_name": "Python 3 (ipykernel)",
   "language": "python",
   "name": "python3"
  },
  "language_info": {
   "codemirror_mode": {
    "name": "ipython",
    "version": 3
   },
   "file_extension": ".py",
   "mimetype": "text/x-python",
   "name": "python",
   "nbconvert_exporter": "python",
   "pygments_lexer": "ipython3",
   "version": "3.12.3"
  }
 },
 "nbformat": 4,
 "nbformat_minor": 5
}
